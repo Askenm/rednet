{
 "cells": [
  {
   "cell_type": "code",
   "execution_count": null,
   "id": "58696b3f",
   "metadata": {},
   "outputs": [],
   "source": [
    "import pandas as pd\n",
    "import networkx as nx"
   ]
  },
  {
   "cell_type": "code",
   "execution_count": null,
   "id": "91ba7a90",
   "metadata": {},
   "outputs": [],
   "source": [
    "data = pd.read_csv(\"data/reddit_post_data.csv\")"
   ]
  },
  {
   "cell_type": "code",
   "execution_count": null,
   "id": "2442cbd1",
   "metadata": {},
   "outputs": [],
   "source": [
    "data = data.loc[data.id!='id']\n",
    "news_frame = data.loc[(~data.url.str.contains('redd'))&(~data.url.str.contains('.jpg'))&(~data.url.str.contains('.png'))]"
   ]
  },
  {
   "cell_type": "code",
   "execution_count": null,
   "id": "ac8b488a",
   "metadata": {},
   "outputs": [],
   "source": [
    "news_frame.reset_index(inplace=True)#.iloc[0].url\n",
    "news_frame.drop('index',axis=1,inplace=True)\n",
    "news_frame"
   ]
  },
  {
   "cell_type": "code",
   "execution_count": null,
   "id": "9a050bba",
   "metadata": {},
   "outputs": [],
   "source": [
    "def clean_url(url):\n",
    "    netloc = urllib.parse.urlparse(url).netloc\n",
    "    dirt = ['www.','mobile.','http','45.media.']\n",
    "    for d in dirt:\n",
    "        netloc = netloc.replace(d,'')\n",
    "    return netloc"
   ]
  },
  {
   "cell_type": "code",
   "execution_count": null,
   "id": "86b69f16",
   "metadata": {},
   "outputs": [],
   "source": [
    "import urllib.parse\n",
    "parsed_url = urllib.parse.urlparse(news_frame.iloc[2750].url)\n",
    "parsed_url.netloc\n",
    "news_frame['netloc'] = news_frame['url'].apply(lambda x: clean_url(x))"
   ]
  },
  {
   "cell_type": "code",
   "execution_count": null,
   "id": "270556f0",
   "metadata": {
    "scrolled": true
   },
   "outputs": [],
   "source": [
    "news_frame.netloc.unique()"
   ]
  },
  {
   "cell_type": "code",
   "execution_count": null,
   "id": "02d7647a",
   "metadata": {
    "scrolled": false
   },
   "outputs": [],
   "source": [
    "tst = news_frame['netloc'].value_counts()"
   ]
  },
  {
   "cell_type": "code",
   "execution_count": null,
   "id": "570c97de",
   "metadata": {},
   "outputs": [],
   "source": [
    "tst = pd.DataFrame(tst)\n",
    "tst.loc[tst.netloc>1]"
   ]
  },
  {
   "cell_type": "code",
   "execution_count": 10,
   "id": "5ea4453d",
   "metadata": {},
   "outputs": [],
   "source": [
    "full_graph = nx.Graph()"
   ]
  },
  {
   "cell_type": "code",
   "execution_count": 11,
   "id": "62b5e085",
   "metadata": {},
   "outputs": [],
   "source": [
    "for k,row in news_frame.iterrows():\n",
    "    full_graph.add_edge(row['subreddit'],row['netloc'])"
   ]
  },
  {
   "cell_type": "code",
   "execution_count": 12,
   "id": "180aa77f",
   "metadata": {},
   "outputs": [
    {
     "name": "stdout",
     "output_type": "stream",
     "text": [
      "Graph with 2286 nodes and 4610 edges\n"
     ]
    },
    {
     "name": "stderr",
     "output_type": "stream",
     "text": [
      "/tmp/ipykernel_123327/2925666907.py:1: DeprecationWarning: info is deprecated and will be removed in version 3.0.\n",
      "\n",
      "  print(nx.info(full_graph))\n"
     ]
    }
   ],
   "source": [
    "print(nx.info(full_graph))"
   ]
  },
  {
   "cell_type": "code",
   "execution_count": 13,
   "id": "2fda6387",
   "metadata": {},
   "outputs": [],
   "source": [
    "import matplotlib.pyplot as plt"
   ]
  },
  {
   "cell_type": "code",
   "execution_count": 14,
   "id": "adf913e6",
   "metadata": {
    "scrolled": false
   },
   "outputs": [
    {
     "ename": "ModuleNotFoundError",
     "evalue": "No module named 'scipy'",
     "output_type": "error",
     "traceback": [
      "\u001b[0;31m---------------------------------------------------------------------------\u001b[0m",
      "\u001b[0;31mModuleNotFoundError\u001b[0m                       Traceback (most recent call last)",
      "Input \u001b[0;32mIn [14]\u001b[0m, in \u001b[0;36m<cell line: 3>\u001b[0;34m()\u001b[0m\n\u001b[1;32m      1\u001b[0m plt\u001b[38;5;241m.\u001b[39mstyle\u001b[38;5;241m.\u001b[39muse(\u001b[38;5;124m'\u001b[39m\u001b[38;5;124mfivethirtyeight\u001b[39m\u001b[38;5;124m'\u001b[39m)\n\u001b[1;32m      2\u001b[0m plt\u001b[38;5;241m.\u001b[39mfigure(figsize\u001b[38;5;241m=\u001b[39m[\u001b[38;5;241m16\u001b[39m,\u001b[38;5;241m9\u001b[39m])\n\u001b[0;32m----> 3\u001b[0m \u001b[43mnx\u001b[49m\u001b[38;5;241;43m.\u001b[39;49m\u001b[43mdraw\u001b[49m\u001b[43m(\u001b[49m\u001b[43mfull_graph\u001b[49m\u001b[43m)\u001b[49m\n",
      "File \u001b[0;32m~/.local/lib/python3.8/site-packages/networkx/drawing/nx_pylab.py:120\u001b[0m, in \u001b[0;36mdraw\u001b[0;34m(G, pos, ax, **kwds)\u001b[0m\n\u001b[1;32m    117\u001b[0m \u001b[38;5;28;01mif\u001b[39;00m \u001b[38;5;124m\"\u001b[39m\u001b[38;5;124mwith_labels\u001b[39m\u001b[38;5;124m\"\u001b[39m \u001b[38;5;129;01mnot\u001b[39;00m \u001b[38;5;129;01min\u001b[39;00m kwds:\n\u001b[1;32m    118\u001b[0m     kwds[\u001b[38;5;124m\"\u001b[39m\u001b[38;5;124mwith_labels\u001b[39m\u001b[38;5;124m\"\u001b[39m] \u001b[38;5;241m=\u001b[39m \u001b[38;5;124m\"\u001b[39m\u001b[38;5;124mlabels\u001b[39m\u001b[38;5;124m\"\u001b[39m \u001b[38;5;129;01min\u001b[39;00m kwds\n\u001b[0;32m--> 120\u001b[0m \u001b[43mdraw_networkx\u001b[49m\u001b[43m(\u001b[49m\u001b[43mG\u001b[49m\u001b[43m,\u001b[49m\u001b[43m \u001b[49m\u001b[43mpos\u001b[49m\u001b[38;5;241;43m=\u001b[39;49m\u001b[43mpos\u001b[49m\u001b[43m,\u001b[49m\u001b[43m \u001b[49m\u001b[43max\u001b[49m\u001b[38;5;241;43m=\u001b[39;49m\u001b[43max\u001b[49m\u001b[43m,\u001b[49m\u001b[43m \u001b[49m\u001b[38;5;241;43m*\u001b[39;49m\u001b[38;5;241;43m*\u001b[39;49m\u001b[43mkwds\u001b[49m\u001b[43m)\u001b[49m\n\u001b[1;32m    121\u001b[0m ax\u001b[38;5;241m.\u001b[39mset_axis_off()\n\u001b[1;32m    122\u001b[0m plt\u001b[38;5;241m.\u001b[39mdraw_if_interactive()\n",
      "File \u001b[0;32m~/.local/lib/python3.8/site-packages/networkx/drawing/nx_pylab.py:331\u001b[0m, in \u001b[0;36mdraw_networkx\u001b[0;34m(G, pos, arrows, with_labels, **kwds)\u001b[0m\n\u001b[1;32m    328\u001b[0m label_kwds \u001b[38;5;241m=\u001b[39m {k: v \u001b[38;5;28;01mfor\u001b[39;00m k, v \u001b[38;5;129;01min\u001b[39;00m kwds\u001b[38;5;241m.\u001b[39mitems() \u001b[38;5;28;01mif\u001b[39;00m k \u001b[38;5;129;01min\u001b[39;00m valid_label_kwds}\n\u001b[1;32m    330\u001b[0m \u001b[38;5;28;01mif\u001b[39;00m pos \u001b[38;5;129;01mis\u001b[39;00m \u001b[38;5;28;01mNone\u001b[39;00m:\n\u001b[0;32m--> 331\u001b[0m     pos \u001b[38;5;241m=\u001b[39m \u001b[43mnx\u001b[49m\u001b[38;5;241;43m.\u001b[39;49m\u001b[43mdrawing\u001b[49m\u001b[38;5;241;43m.\u001b[39;49m\u001b[43mspring_layout\u001b[49m\u001b[43m(\u001b[49m\u001b[43mG\u001b[49m\u001b[43m)\u001b[49m  \u001b[38;5;66;03m# default to spring layout\u001b[39;00m\n\u001b[1;32m    333\u001b[0m draw_networkx_nodes(G, pos, \u001b[38;5;241m*\u001b[39m\u001b[38;5;241m*\u001b[39mnode_kwds)\n\u001b[1;32m    334\u001b[0m draw_networkx_edges(G, pos, arrows\u001b[38;5;241m=\u001b[39marrows, \u001b[38;5;241m*\u001b[39m\u001b[38;5;241m*\u001b[39medge_kwds)\n",
      "File \u001b[0;32m~/.local/lib/python3.8/site-packages/networkx/utils/decorators.py:816\u001b[0m, in \u001b[0;36margmap.__call__.<locals>.func\u001b[0;34m(_argmap__wrapper, *args, **kwargs)\u001b[0m\n\u001b[1;32m    815\u001b[0m \u001b[38;5;28;01mdef\u001b[39;00m \u001b[38;5;21mfunc\u001b[39m(\u001b[38;5;241m*\u001b[39margs, __wrapper\u001b[38;5;241m=\u001b[39m\u001b[38;5;28;01mNone\u001b[39;00m, \u001b[38;5;241m*\u001b[39m\u001b[38;5;241m*\u001b[39mkwargs):\n\u001b[0;32m--> 816\u001b[0m     \u001b[38;5;28;01mreturn\u001b[39;00m \u001b[43margmap\u001b[49m\u001b[38;5;241;43m.\u001b[39;49m\u001b[43m_lazy_compile\u001b[49m\u001b[43m(\u001b[49m\u001b[43m__wrapper\u001b[49m\u001b[43m)\u001b[49m\u001b[43m(\u001b[49m\u001b[38;5;241;43m*\u001b[39;49m\u001b[43margs\u001b[49m\u001b[43m,\u001b[49m\u001b[43m \u001b[49m\u001b[38;5;241;43m*\u001b[39;49m\u001b[38;5;241;43m*\u001b[39;49m\u001b[43mkwargs\u001b[49m\u001b[43m)\u001b[49m\n",
      "File \u001b[0;32m<class 'networkx.utils.decorators.argmap'> compilation 4:4\u001b[0m, in \u001b[0;36margmap_spring_layout_1\u001b[0;34m(G, k, pos, fixed, iterations, threshold, weight, scale, center, dim, seed)\u001b[0m\n\u001b[1;32m      2\u001b[0m \u001b[38;5;28;01mfrom\u001b[39;00m \u001b[38;5;21;01mos\u001b[39;00m\u001b[38;5;21;01m.\u001b[39;00m\u001b[38;5;21;01mpath\u001b[39;00m \u001b[38;5;28;01mimport\u001b[39;00m splitext\n\u001b[1;32m      3\u001b[0m \u001b[38;5;28;01mfrom\u001b[39;00m \u001b[38;5;21;01mcontextlib\u001b[39;00m \u001b[38;5;28;01mimport\u001b[39;00m contextmanager\n\u001b[0;32m----> 4\u001b[0m \u001b[38;5;28;01mfrom\u001b[39;00m \u001b[38;5;21;01mpathlib\u001b[39;00m \u001b[38;5;28;01mimport\u001b[39;00m Path\n\u001b[1;32m      6\u001b[0m \u001b[38;5;28;01mimport\u001b[39;00m \u001b[38;5;21;01mnetworkx\u001b[39;00m \u001b[38;5;28;01mas\u001b[39;00m \u001b[38;5;21;01mnx\u001b[39;00m\n\u001b[1;32m      7\u001b[0m \u001b[38;5;28;01mfrom\u001b[39;00m \u001b[38;5;21;01mnetworkx\u001b[39;00m\u001b[38;5;21;01m.\u001b[39;00m\u001b[38;5;21;01mutils\u001b[39;00m \u001b[38;5;28;01mimport\u001b[39;00m create_random_state, create_py_random_state\n",
      "File \u001b[0;32m~/.local/lib/python3.8/site-packages/networkx/drawing/layout.py:476\u001b[0m, in \u001b[0;36mspring_layout\u001b[0;34m(G, k, pos, fixed, iterations, threshold, weight, scale, center, dim, seed)\u001b[0m\n\u001b[1;32m    474\u001b[0m \u001b[38;5;28;01mif\u001b[39;00m \u001b[38;5;28mlen\u001b[39m(G) \u001b[38;5;241m<\u001b[39m \u001b[38;5;241m500\u001b[39m:  \u001b[38;5;66;03m# sparse solver for large graphs\u001b[39;00m\n\u001b[1;32m    475\u001b[0m     \u001b[38;5;28;01mraise\u001b[39;00m \u001b[38;5;167;01mValueError\u001b[39;00m\n\u001b[0;32m--> 476\u001b[0m A \u001b[38;5;241m=\u001b[39m \u001b[43mnx\u001b[49m\u001b[38;5;241;43m.\u001b[39;49m\u001b[43mto_scipy_sparse_array\u001b[49m\u001b[43m(\u001b[49m\u001b[43mG\u001b[49m\u001b[43m,\u001b[49m\u001b[43m \u001b[49m\u001b[43mweight\u001b[49m\u001b[38;5;241;43m=\u001b[39;49m\u001b[43mweight\u001b[49m\u001b[43m,\u001b[49m\u001b[43m \u001b[49m\u001b[43mdtype\u001b[49m\u001b[38;5;241;43m=\u001b[39;49m\u001b[38;5;124;43m\"\u001b[39;49m\u001b[38;5;124;43mf\u001b[39;49m\u001b[38;5;124;43m\"\u001b[39;49m\u001b[43m)\u001b[49m\n\u001b[1;32m    477\u001b[0m \u001b[38;5;28;01mif\u001b[39;00m k \u001b[38;5;129;01mis\u001b[39;00m \u001b[38;5;28;01mNone\u001b[39;00m \u001b[38;5;129;01mand\u001b[39;00m fixed \u001b[38;5;129;01mis\u001b[39;00m \u001b[38;5;129;01mnot\u001b[39;00m \u001b[38;5;28;01mNone\u001b[39;00m:\n\u001b[1;32m    478\u001b[0m     \u001b[38;5;66;03m# We must adjust k by domain size for layouts not near 1x1\u001b[39;00m\n\u001b[1;32m    479\u001b[0m     nnodes, _ \u001b[38;5;241m=\u001b[39m A\u001b[38;5;241m.\u001b[39mshape\n",
      "File \u001b[0;32m~/.local/lib/python3.8/site-packages/networkx/convert_matrix.py:874\u001b[0m, in \u001b[0;36mto_scipy_sparse_array\u001b[0;34m(G, nodelist, dtype, weight, format)\u001b[0m\n\u001b[1;32m    794\u001b[0m \u001b[38;5;28;01mdef\u001b[39;00m \u001b[38;5;21mto_scipy_sparse_array\u001b[39m(G, nodelist\u001b[38;5;241m=\u001b[39m\u001b[38;5;28;01mNone\u001b[39;00m, dtype\u001b[38;5;241m=\u001b[39m\u001b[38;5;28;01mNone\u001b[39;00m, weight\u001b[38;5;241m=\u001b[39m\u001b[38;5;124m\"\u001b[39m\u001b[38;5;124mweight\u001b[39m\u001b[38;5;124m\"\u001b[39m, \u001b[38;5;28mformat\u001b[39m\u001b[38;5;241m=\u001b[39m\u001b[38;5;124m\"\u001b[39m\u001b[38;5;124mcsr\u001b[39m\u001b[38;5;124m\"\u001b[39m):\n\u001b[1;32m    795\u001b[0m     \u001b[38;5;124;03m\"\"\"Returns the graph adjacency matrix as a SciPy sparse array.\u001b[39;00m\n\u001b[1;32m    796\u001b[0m \n\u001b[1;32m    797\u001b[0m \u001b[38;5;124;03m    Parameters\u001b[39;00m\n\u001b[0;32m   (...)\u001b[0m\n\u001b[1;32m    872\u001b[0m \u001b[38;5;124;03m       https://docs.scipy.org/doc/scipy/reference/sparse.html\u001b[39;00m\n\u001b[1;32m    873\u001b[0m \u001b[38;5;124;03m    \"\"\"\u001b[39;00m\n\u001b[0;32m--> 874\u001b[0m     \u001b[38;5;28;01mimport\u001b[39;00m \u001b[38;5;21;01mscipy\u001b[39;00m \u001b[38;5;28;01mas\u001b[39;00m \u001b[38;5;21;01msp\u001b[39;00m\n\u001b[1;32m    875\u001b[0m     \u001b[38;5;28;01mimport\u001b[39;00m \u001b[38;5;21;01mscipy\u001b[39;00m\u001b[38;5;21;01m.\u001b[39;00m\u001b[38;5;21;01msparse\u001b[39;00m  \u001b[38;5;66;03m# call as sp.sparse\u001b[39;00m\n\u001b[1;32m    877\u001b[0m     \u001b[38;5;28;01mif\u001b[39;00m \u001b[38;5;28mlen\u001b[39m(G) \u001b[38;5;241m==\u001b[39m \u001b[38;5;241m0\u001b[39m:\n",
      "\u001b[0;31mModuleNotFoundError\u001b[0m: No module named 'scipy'"
     ]
    },
    {
     "data": {
      "image/png": "[encoded data removed]",
      "text/plain": [
       "<Figure size 1152x648 with 1 Axes>"
      ]
     },
     "metadata": {},
     "output_type": "display_data"
    }
   ],
   "source": [
    "plt.style.use('fivethirtyeight')\n",
    "plt.figure(figsize=[16,9])\n",
    "nx.draw(full_graph)"
   ]
  },
  {
   "cell_type": "code",
   "execution_count": null,
   "id": "ff9d32fa",
   "metadata": {},
   "outputs": [],
   "source": [
    "!jupyter kernelspec list"
   ]
  },
  {
   "cell_type": "code",
   "execution_count": null,
   "id": "1d12ea7d",
   "metadata": {},
   "outputs": [],
   "source": [
    "!which -a python3"
   ]
  },
  {
   "cell_type": "code",
   "execution_count": null,
   "id": "92d2a2e6",
   "metadata": {},
   "outputs": [],
   "source": [
    "!which python3"
   ]
  },
  {
   "cell_type": "code",
   "execution_count": null,
   "id": "6c17e4b2",
   "metadata": {},
   "outputs": [],
   "source": [
    "!/home/askenm/anaconda3/bin/python3 -m pip install ipykernel"
   ]
  },
  {
   "cell_type": "code",
   "execution_count": 15,
   "id": "266c4517",
   "metadata": {},
   "outputs": [],
   "source": [
    "import sys"
   ]
  },
  {
   "cell_type": "code",
   "execution_count": 16,
   "id": "cc6cb2be",
   "metadata": {},
   "outputs": [
    {
     "data": {
      "text/plain": [
       "['/home/askenm/Desktop/Projects/TAENK/reddit',\n",
       " '/usr/lib/python38.zip',\n",
       " '/usr/lib/python3.8',\n",
       " '/usr/lib/python3.8/lib-dynload',\n",
       " '',\n",
       " '/home/askenm/.local/lib/python3.8/site-packages',\n",
       " '/usr/local/lib/python3.8/dist-packages',\n",
       " '/usr/lib/python3/dist-packages']"
      ]
     },
     "execution_count": 16,
     "metadata": {},
     "output_type": "execute_result"
    }
   ],
   "source": [
    "sys.path"
   ]
  },
  {
   "cell_type": "code",
   "execution_count": 22,
   "id": "0e9aedf3",
   "metadata": {},
   "outputs": [
    {
     "name": "stdout",
     "output_type": "stream",
     "text": [
      "asttokens\t\t\t   pandas-1.4.2.dist-info\r\n",
      "asttokens-2.0.5.dist-info\t   parso\r\n",
      "cycler-0.11.0.dist-info\t\t   parso-0.8.3.dist-info\r\n",
      "cycler.py\t\t\t   plotly\r\n",
      "dateutil\t\t\t   plotly-5.7.0.dist-info\r\n",
      "debugpy\t\t\t\t   _plotly_future_\r\n",
      "debugpy-1.6.0.dist-info\t\t   _plotly_utils\r\n",
      "executing\t\t\t   plotlywidget\r\n",
      "executing-0.8.3.dist-info\t   praw\r\n",
      "fontTools\t\t\t   praw-7.5.0.dist-info\r\n",
      "fonttools-4.32.0.dist-info\t   prawcore\r\n",
      "ipykernel\t\t\t   prawcore-2.3.0.dist-info\r\n",
      "ipykernel-6.13.0.dist-info\t   psutil\r\n",
      "ipykernel_launcher.py\t\t   psutil-5.9.0.dist-info\r\n",
      "IPython\t\t\t\t   pure_eval\r\n",
      "ipython-8.2.0.dist-info\t\t   pure_eval-0.2.2.dist-info\r\n",
      "jedi\t\t\t\t   __pycache__\r\n",
      "jedi-0.18.1.dist-info\t\t   pygments\r\n",
      "jupyter_client\t\t\t   Pygments-2.11.2.dist-info\r\n",
      "jupyter_client-7.2.2.dist-info\t   pylab.py\r\n",
      "jupyter_core\t\t\t   pyparsing\r\n",
      "jupyter_core-4.9.2.dist-info\t   pyparsing-3.0.8.dist-info\r\n",
      "jupyterlab_plotly\t\t   python_dateutil-2.8.2.dist-info\r\n",
      "jupyter.py\t\t\t   pytz\r\n",
      "kiwisolver\t\t\t   pytz-2022.1.dist-info\r\n",
      "kiwisolver-1.4.2.dist-info\t   pyzmq-22.3.0.dist-info\r\n",
      "matplotlib\t\t\t   pyzmq.libs\r\n",
      "matplotlib-3.5.1.dist-info\t   stack_data\r\n",
      "matplotlib-3.5.1-py3.8-nspkg.pth   stack_data-0.2.0.dist-info\r\n",
      "matplotlib_inline\t\t   tenacity\r\n",
      "matplotlib_inline-0.1.3.dist-info  tenacity-8.0.1.dist-info\r\n",
      "mpl_toolkits\t\t\t   tornado\r\n",
      "nest_asyncio-1.5.5.dist-info\t   tornado-6.1.dist-info\r\n",
      "nest_asyncio.py\t\t\t   traitlets\r\n",
      "networkx\t\t\t   traitlets-5.1.1.dist-info\r\n",
      "networkx-2.8.dist-info\t\t   update_checker-0.18.0.dist-info\r\n",
      "numpy\t\t\t\t   update_checker.py\r\n",
      "numpy-1.22.3.dist-info\t\t   update_checker_test.py\r\n",
      "numpy.libs\t\t\t   websocket\r\n",
      "packaging\t\t\t   websocket_client-1.3.2.dist-info\r\n",
      "packaging-21.3.dist-info\t   zmq\r\n",
      "pandas\r\n"
     ]
    }
   ],
   "source": [
    "!ls /home/askenm/.local/lib/python3.8/site-packages"
   ]
  },
  {
   "cell_type": "code",
   "execution_count": null,
   "id": "83f64a91",
   "metadata": {},
   "outputs": [],
   "source": []
  }
 ],
 "metadata": {
  "kernelspec": {
   "display_name": "Python 3 (ipykernel)",
   "language": "python",
   "name": "python3"
  },
  "language_info": {
   "codemirror_mode": {
    "name": "ipython",
    "version": 3
   },
   "file_extension": ".py",
   "mimetype": "text/x-python",
   "name": "python",
   "nbconvert_exporter": "python",
   "pygments_lexer": "ipython3",
   "version": "3.8.10"
  }
 },
 "nbformat": 4,
 "nbformat_minor": 5
}
